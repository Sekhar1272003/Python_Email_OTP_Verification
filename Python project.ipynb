{
 "cells": [
  {
   "cell_type": "code",
   "execution_count": 1,
   "id": "18cf5579-276d-4899-bd42-3592d5017fa7",
   "metadata": {},
   "outputs": [],
   "source": [
    "import random   #This module helps to generate random numbers accordingly\n",
    "import smtplib  #The library is intact to send the Emails and have lot of methods which are predefined\n",
    "from email.mime.text import MIMEText"
   ]
  },
  {
   "cell_type": "code",
   "execution_count": 2,
   "id": "e4a91523-484d-49f6-9c65-b4c7afbaf3a3",
   "metadata": {},
   "outputs": [],
   "source": [
    "def generate_otp():\n",
    "    \"\"\"Generate a 6-digit OTP randomly.\"\"\"\n",
    "    return str(random.randint(100000, 999999))\n"
   ]
  },
  {
   "cell_type": "code",
   "execution_count": 3,
   "id": "b06d4fde-0bbb-4c0c-9ee1-79af91f0fe85",
   "metadata": {},
   "outputs": [],
   "source": [
    "def send_otp_email(email, otp):\n",
    "    \"\"\"Simulate sending the OTP to the user's email address.\"\"\"\n",
    "    try:\n",
    "        # Replace with your actual SMTP server credentials and settings\n",
    "        smtp_server = \"smtp.gmail.com\"\n",
    "        smtp_port = 587\n",
    "        sender_email = \"aarajasekhar2003@gmail.com\"\n",
    "        sender_password = \"sava zcgs ofpy unxl\"  # Application Password\n",
    "\n",
    "        # Email message setup\n",
    "        message = MIMEText(f\"Your OTP is: {otp}\")\n",
    "        message['Subject'] = \"OTP Verification\"\n",
    "        message['From'] = sender_email\n",
    "        message['To'] = email\n",
    "\n",
    "        # Sending email\n",
    "        with smtplib.SMTP(smtp_server, smtp_port) as server:\n",
    "            server.starttls()\n",
    "            server.login(sender_email, sender_password)\n",
    "            server.sendmail(sender_email, email, message.as_string())\n",
    "        print(f\"OTP has been sent to {email}.\")\n",
    "    except Exception as e:\n",
    "        print(\"Error sending email:\", e)"
   ]
  },
  {
   "cell_type": "code",
   "execution_count": 4,
   "id": "28e6f93b-4c82-4de7-b594-a58c4a6ed1d4",
   "metadata": {},
   "outputs": [],
   "source": [
    "def prompt_user_for_otp():\n",
    "    \"\"\"Prompt the user to enter the OTP received in their email.\"\"\"\n",
    "    return input(\"Enter the OTP sent to your email: \")"
   ]
  },
  {
   "cell_type": "code",
   "execution_count": 5,
   "id": "703d4a1c-8a92-44cd-a773-869b4a0034bd",
   "metadata": {},
   "outputs": [],
   "source": [
    "def verify_otp(generated_otp, entered_otp):\n",
    "    \"\"\"Verify if the entered OTP matches the generated OTP.\"\"\"\n",
    "    return generated_otp == entered_otp"
   ]
  },
  {
   "cell_type": "code",
   "execution_count": 6,
   "id": "db36eee1-c154-4f02-9696-cd85259865bc",
   "metadata": {},
   "outputs": [
    {
     "name": "stdin",
     "output_type": "stream",
     "text": [
      "Enter your email address:  aarajasekhar2003@gmail.com\n"
     ]
    },
    {
     "name": "stdout",
     "output_type": "stream",
     "text": [
      "OTP has been sent to aarajasekhar2003@gmail.com.\n"
     ]
    },
    {
     "name": "stdin",
     "output_type": "stream",
     "text": [
      "Enter the OTP sent to your email:  250413\n"
     ]
    },
    {
     "name": "stdout",
     "output_type": "stream",
     "text": [
      "Access granted.\n"
     ]
    }
   ],
   "source": [
    "def otp_verification_system():\n",
    "    \"\"\"Main function to run the OTP verification system.\"\"\"\n",
    "    email = input(\"Enter your email address: \")\n",
    "    generated_otp = generate_otp()  # Corrected assignment\n",
    "    send_otp_email(email, generated_otp)\n",
    "    \n",
    "    retries = 3\n",
    "    while retries > 0:\n",
    "        entered_otp = prompt_user_for_otp()\n",
    "        if verify_otp(generated_otp, entered_otp):\n",
    "            print(\"Access granted.\")\n",
    "            return\n",
    "        else:\n",
    "            retries -= 1\n",
    "            print(f\"Incorrect OTP. You have {retries} attempts left.\")\n",
    "\n",
    "    print(\"Access denied. Too many failed attempts.\")\n",
    "\n",
    "if __name__ == \"__main__\":\n",
    "    otp_verification_system()"
   ]
  },
  {
   "cell_type": "code",
   "execution_count": null,
   "id": "d698b0bb-ad41-4621-b00c-b937f1a66eba",
   "metadata": {},
   "outputs": [],
   "source": []
  }
 ],
 "metadata": {
  "kernelspec": {
   "display_name": "Python 3 (ipykernel)",
   "language": "python",
   "name": "python3"
  },
  "language_info": {
   "codemirror_mode": {
    "name": "ipython",
    "version": 3
   },
   "file_extension": ".py",
   "mimetype": "text/x-python",
   "name": "python",
   "nbconvert_exporter": "python",
   "pygments_lexer": "ipython3",
   "version": "3.12.4"
  }
 },
 "nbformat": 4,
 "nbformat_minor": 5
}
