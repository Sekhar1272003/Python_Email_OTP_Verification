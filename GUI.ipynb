{
 "cells": [
  {
   "cell_type": "code",
   "execution_count": 1,
   "id": "01a40041-61a9-416c-a283-3b110131847a",
   "metadata": {},
   "outputs": [],
   "source": [
    "import random\n",
    "import smtplib\n",
    "from email.mime.text import MIMEText\n",
    "import tkinter as tk\n",
    "from tkinter import messagebox\n"
   ]
  },
  {
   "cell_type": "code",
   "execution_count": 2,
   "id": "52d7e383-3526-4a50-871f-004ad4c45517",
   "metadata": {},
   "outputs": [],
   "source": [
    "def generate_otp():\n",
    "    \"\"\"Generate a 6-digit OTP randomly.\"\"\"\n",
    "    return str(random.randint(100000, 999999))\n"
   ]
  },
  {
   "cell_type": "code",
   "execution_count": 3,
   "id": "9fb20b4f-8f5d-4832-8c93-d09b096dbba9",
   "metadata": {},
   "outputs": [],
   "source": [
    "def send_otp_email(email, otp):\n",
    "    \"\"\"Simulate sending the OTP to the user's email address.\"\"\"\n",
    "    try:\n",
    "        # Replace with your actual SMTP server credentials and settings\n",
    "        smtp_server = \"smtp.gmail.com\"\n",
    "        smtp_port = 587\n",
    "        sender_email = \"aarajasekhar2003@gmail.com\"\n",
    "        sender_password = \"sava zcgs ofpy unxl\"  # Application Password\n",
    "\n",
    "        # Email message setup\n",
    "        message = MIMEText(f\"Your OTP is: {otp}\")\n",
    "        message['Subject'] = \"OTP Verification\"\n",
    "        message['From'] = sender_email\n",
    "        message['To'] = email\n",
    "\n",
    "        #Establish secure connection and send email\n",
    "        with smtplib.SMTP(smtp_server, smtp_port) as server:\n",
    "            server.starttls() # Upgrade to secure connection \n",
    "            server.login(sender_email, sender_password)\n",
    "            server.sendmail(sender_email, email, message.as_string())\n",
    "        messagebox.showinfo(\"Success\", f\"OTP sent successfully to {email}.\")\n",
    "    except smtplib.SMTPException as e:\n",
    "        messagebox.showerror(\"Error\", f\"Error sending email: {e}\")\n",
    "    except Exception as e:\n",
    "        messagebox.showerror(\"Error\", f\"Unexpected error occurred: {e}\")"
   ]
  },
  {
   "cell_type": "code",
   "execution_count": 4,
   "id": "d3534970-4b1e-477c-b284-b1356ac42bd8",
   "metadata": {},
   "outputs": [],
   "source": [
    "def verify_otp_gui():\n",
    "    \"\"\"Verify the OTP entered by the user.\"\"\"\n",
    "    entered_otp = otp_entry.get()\n",
    "    if entered_otp == generated_otp:\n",
    "        messagebox.showinfo(\"Success\", \"Access granted.\")\n",
    "        root.destroy()\n",
    "    else:\n",
    "        global retries\n",
    "        retries -= 1\n",
    "        if retries > 0:\n",
    "            messagebox.showwarning(\"Incorrect OTP\", f\"Incorrect OTP, You have (retries) attempts left.\")\n",
    "        else:\n",
    "            messagebox.showerror(\"Access Denied\", \"Access denied. Too many failed attempts.\")\n",
    "            root.destroy()"
   ]
  },
  {
   "cell_type": "code",
   "execution_count": 5,
   "id": "f4ef5999-310b-493b-82ae-94323ab8aad0",
   "metadata": {},
   "outputs": [],
   "source": [
    "def start_verification():\n",
    "    \"\"\"Initiate OTP verification by sending OTP to the user's email.\"\"\"\n",
    "    global email, generated_otp, retries\n",
    "\n",
    "    email = email_entry.get()\n",
    "    if not email:\n",
    "        messagebox.showwarning(\"Input Error\", \"Please enter a valid email address.\")\n",
    "        return\n",
    "\n",
    "    retries = 3\n",
    "    generated_otp = generate_otp()\n",
    "    send_otp_email(email, generated_otp)"
   ]
  },
  {
   "cell_type": "code",
   "execution_count": 6,
   "id": "e8e22548-2e10-44a6-b4c3-8334d8dfd78d",
   "metadata": {},
   "outputs": [],
   "source": [
    "#Create the main GUI window\n",
    "root = tk.Tk()\n",
    "root.title(\"OTP Verification System\")\n",
    "root.geometry(\"400x300\")\n",
    "root.resizable(False, False)\n",
    "\n",
    "#Email entry section\n",
    "email_label = tk.Label(root, text=\"Enter your email address:\") \n",
    "email_label.pack(pady=10)\n",
    "email_entry = tk.Entry(root, width=30)\n",
    "email_entry.pack(pady=5)\n",
    "\n",
    "#OTP entry section\n",
    "otp_label = tk.Label(root, text=\"Enter the OTP sent to your email:\")\n",
    "otp_label.pack(pady=10)\n",
    "otp_entry = tk.Entry(root, width=30)\n",
    "otp_entry.pack(pady=5)\n",
    "\n",
    "#Buttons\n",
    "send_otp_button = tk.Button(root, text=\"Send OTP\", command=start_verification)\n",
    "send_otp_button.pack(pady=10)\n",
    "\n",
    "verify_otp_button = tk.Button(root, text=\"Verify OTP\", command=verify_otp_gui)\n",
    "verify_otp_button.pack(pady=10)\n",
    "\n",
    "#Run the GUI event Loop\n",
    "root.mainloop()"
   ]
  },
  {
   "cell_type": "code",
   "execution_count": null,
   "id": "41f97429-88fb-408f-b17f-bda51bb38eb5",
   "metadata": {},
   "outputs": [],
   "source": []
  }
 ],
 "metadata": {
  "kernelspec": {
   "display_name": "Python 3 (ipykernel)",
   "language": "python",
   "name": "python3"
  },
  "language_info": {
   "codemirror_mode": {
    "name": "ipython",
    "version": 3
   },
   "file_extension": ".py",
   "mimetype": "text/x-python",
   "name": "python",
   "nbconvert_exporter": "python",
   "pygments_lexer": "ipython3",
   "version": "3.12.4"
  }
 },
 "nbformat": 4,
 "nbformat_minor": 5
}
